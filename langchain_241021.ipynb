{
  "nbformat": 4,
  "nbformat_minor": 0,
  "metadata": {
    "colab": {
      "provenance": [],
      "authorship_tag": "ABX9TyOa+ejzbTL95lkSZH2+BVHz",
      "include_colab_link": true
    },
    "kernelspec": {
      "name": "python3",
      "display_name": "Python 3"
    },
    "language_info": {
      "name": "python"
    }
  },
  "cells": [
    {
      "cell_type": "markdown",
      "metadata": {
        "id": "view-in-github",
        "colab_type": "text"
      },
      "source": [
        "<a href=\"https://colab.research.google.com/github/fedor44/LangChain_Test/blob/main/langchain_241021.ipynb\" target=\"_parent\"><img src=\"https://colab.research.google.com/assets/colab-badge.svg\" alt=\"Open In Colab\"/></a>"
      ]
    },
    {
      "cell_type": "code",
      "execution_count": null,
      "metadata": {
        "colab": {
          "base_uri": "https://localhost:8080/"
        },
        "id": "YAADZ3s4fM6R",
        "outputId": "2a743638-57ee-495b-d4e9-c59993eaea0e"
      },
      "outputs": [
        {
          "output_type": "stream",
          "name": "stdout",
          "text": [
            "Collecting langchain-openai\n",
            "  Downloading langchain_openai-0.2.3-py3-none-any.whl.metadata (2.6 kB)\n",
            "Collecting tiktoken\n",
            "  Downloading tiktoken-0.8.0-cp310-cp310-manylinux_2_17_x86_64.manylinux2014_x86_64.whl.metadata (6.6 kB)\n",
            "Collecting langchain-community\n",
            "  Downloading langchain_community-0.3.3-py3-none-any.whl.metadata (2.8 kB)\n",
            "Collecting langchain-core<0.4.0,>=0.3.12 (from langchain-openai)\n",
            "  Downloading langchain_core-0.3.12-py3-none-any.whl.metadata (6.3 kB)\n",
            "Collecting openai<2.0.0,>=1.52.0 (from langchain-openai)\n",
            "  Downloading openai-1.52.0-py3-none-any.whl.metadata (24 kB)\n",
            "Requirement already satisfied: regex>=2022.1.18 in /usr/local/lib/python3.10/dist-packages (from tiktoken) (2024.9.11)\n",
            "Requirement already satisfied: requests>=2.26.0 in /usr/local/lib/python3.10/dist-packages (from tiktoken) (2.32.3)\n",
            "Requirement already satisfied: PyYAML>=5.3 in /usr/local/lib/python3.10/dist-packages (from langchain-community) (6.0.2)\n",
            "Requirement already satisfied: SQLAlchemy<3,>=1.4 in /usr/local/lib/python3.10/dist-packages (from langchain-community) (2.0.35)\n",
            "Requirement already satisfied: aiohttp<4.0.0,>=3.8.3 in /usr/local/lib/python3.10/dist-packages (from langchain-community) (3.10.10)\n",
            "Collecting dataclasses-json<0.7,>=0.5.7 (from langchain-community)\n",
            "  Downloading dataclasses_json-0.6.7-py3-none-any.whl.metadata (25 kB)\n",
            "Collecting langchain<0.4.0,>=0.3.4 (from langchain-community)\n",
            "  Downloading langchain-0.3.4-py3-none-any.whl.metadata (7.1 kB)\n",
            "Collecting langsmith<0.2.0,>=0.1.125 (from langchain-community)\n",
            "  Downloading langsmith-0.1.136-py3-none-any.whl.metadata (13 kB)\n",
            "Requirement already satisfied: numpy<2,>=1 in /usr/local/lib/python3.10/dist-packages (from langchain-community) (1.26.4)\n",
            "Collecting pydantic-settings<3.0.0,>=2.4.0 (from langchain-community)\n",
            "  Downloading pydantic_settings-2.6.0-py3-none-any.whl.metadata (3.5 kB)\n",
            "Requirement already satisfied: tenacity!=8.4.0,<10,>=8.1.0 in /usr/local/lib/python3.10/dist-packages (from langchain-community) (9.0.0)\n",
            "Requirement already satisfied: aiohappyeyeballs>=2.3.0 in /usr/local/lib/python3.10/dist-packages (from aiohttp<4.0.0,>=3.8.3->langchain-community) (2.4.3)\n",
            "Requirement already satisfied: aiosignal>=1.1.2 in /usr/local/lib/python3.10/dist-packages (from aiohttp<4.0.0,>=3.8.3->langchain-community) (1.3.1)\n",
            "Requirement already satisfied: attrs>=17.3.0 in /usr/local/lib/python3.10/dist-packages (from aiohttp<4.0.0,>=3.8.3->langchain-community) (24.2.0)\n",
            "Requirement already satisfied: frozenlist>=1.1.1 in /usr/local/lib/python3.10/dist-packages (from aiohttp<4.0.0,>=3.8.3->langchain-community) (1.4.1)\n",
            "Requirement already satisfied: multidict<7.0,>=4.5 in /usr/local/lib/python3.10/dist-packages (from aiohttp<4.0.0,>=3.8.3->langchain-community) (6.1.0)\n",
            "Requirement already satisfied: yarl<2.0,>=1.12.0 in /usr/local/lib/python3.10/dist-packages (from aiohttp<4.0.0,>=3.8.3->langchain-community) (1.15.2)\n",
            "Requirement already satisfied: async-timeout<5.0,>=4.0 in /usr/local/lib/python3.10/dist-packages (from aiohttp<4.0.0,>=3.8.3->langchain-community) (4.0.3)\n",
            "Collecting marshmallow<4.0.0,>=3.18.0 (from dataclasses-json<0.7,>=0.5.7->langchain-community)\n",
            "  Downloading marshmallow-3.23.0-py3-none-any.whl.metadata (7.6 kB)\n",
            "Collecting typing-inspect<1,>=0.4.0 (from dataclasses-json<0.7,>=0.5.7->langchain-community)\n",
            "  Downloading typing_inspect-0.9.0-py3-none-any.whl.metadata (1.5 kB)\n",
            "Collecting langchain-text-splitters<0.4.0,>=0.3.0 (from langchain<0.4.0,>=0.3.4->langchain-community)\n",
            "  Downloading langchain_text_splitters-0.3.0-py3-none-any.whl.metadata (2.3 kB)\n",
            "Requirement already satisfied: pydantic<3.0.0,>=2.7.4 in /usr/local/lib/python3.10/dist-packages (from langchain<0.4.0,>=0.3.4->langchain-community) (2.9.2)\n",
            "Collecting jsonpatch<2.0,>=1.33 (from langchain-core<0.4.0,>=0.3.12->langchain-openai)\n",
            "  Downloading jsonpatch-1.33-py2.py3-none-any.whl.metadata (3.0 kB)\n",
            "Requirement already satisfied: packaging<25,>=23.2 in /usr/local/lib/python3.10/dist-packages (from langchain-core<0.4.0,>=0.3.12->langchain-openai) (24.1)\n",
            "Requirement already satisfied: typing-extensions>=4.7 in /usr/local/lib/python3.10/dist-packages (from langchain-core<0.4.0,>=0.3.12->langchain-openai) (4.12.2)\n",
            "Collecting httpx<1,>=0.23.0 (from langsmith<0.2.0,>=0.1.125->langchain-community)\n",
            "  Downloading httpx-0.27.2-py3-none-any.whl.metadata (7.1 kB)\n",
            "Collecting orjson<4.0.0,>=3.9.14 (from langsmith<0.2.0,>=0.1.125->langchain-community)\n",
            "  Downloading orjson-3.10.9-cp310-cp310-manylinux_2_17_x86_64.manylinux2014_x86_64.whl.metadata (50 kB)\n",
            "\u001b[2K     \u001b[90m━━━━━━━━━━━━━━━━━━━━━━━━━━━━━━━━━━━━━━━━\u001b[0m \u001b[32m50.6/50.6 kB\u001b[0m \u001b[31m2.7 MB/s\u001b[0m eta \u001b[36m0:00:00\u001b[0m\n",
            "\u001b[?25hCollecting requests-toolbelt<2.0.0,>=1.0.0 (from langsmith<0.2.0,>=0.1.125->langchain-community)\n",
            "  Downloading requests_toolbelt-1.0.0-py2.py3-none-any.whl.metadata (14 kB)\n",
            "Requirement already satisfied: anyio<5,>=3.5.0 in /usr/local/lib/python3.10/dist-packages (from openai<2.0.0,>=1.52.0->langchain-openai) (3.7.1)\n",
            "Requirement already satisfied: distro<2,>=1.7.0 in /usr/lib/python3/dist-packages (from openai<2.0.0,>=1.52.0->langchain-openai) (1.7.0)\n",
            "Collecting jiter<1,>=0.4.0 (from openai<2.0.0,>=1.52.0->langchain-openai)\n",
            "  Downloading jiter-0.6.1-cp310-cp310-manylinux_2_17_x86_64.manylinux2014_x86_64.whl.metadata (5.2 kB)\n",
            "Requirement already satisfied: sniffio in /usr/local/lib/python3.10/dist-packages (from openai<2.0.0,>=1.52.0->langchain-openai) (1.3.1)\n",
            "Requirement already satisfied: tqdm>4 in /usr/local/lib/python3.10/dist-packages (from openai<2.0.0,>=1.52.0->langchain-openai) (4.66.5)\n",
            "Collecting python-dotenv>=0.21.0 (from pydantic-settings<3.0.0,>=2.4.0->langchain-community)\n",
            "  Downloading python_dotenv-1.0.1-py3-none-any.whl.metadata (23 kB)\n",
            "Requirement already satisfied: charset-normalizer<4,>=2 in /usr/local/lib/python3.10/dist-packages (from requests>=2.26.0->tiktoken) (3.4.0)\n",
            "Requirement already satisfied: idna<4,>=2.5 in /usr/local/lib/python3.10/dist-packages (from requests>=2.26.0->tiktoken) (3.10)\n",
            "Requirement already satisfied: urllib3<3,>=1.21.1 in /usr/local/lib/python3.10/dist-packages (from requests>=2.26.0->tiktoken) (2.2.3)\n",
            "Requirement already satisfied: certifi>=2017.4.17 in /usr/local/lib/python3.10/dist-packages (from requests>=2.26.0->tiktoken) (2024.8.30)\n",
            "Requirement already satisfied: greenlet!=0.4.17 in /usr/local/lib/python3.10/dist-packages (from SQLAlchemy<3,>=1.4->langchain-community) (3.1.1)\n",
            "Requirement already satisfied: exceptiongroup in /usr/local/lib/python3.10/dist-packages (from anyio<5,>=3.5.0->openai<2.0.0,>=1.52.0->langchain-openai) (1.2.2)\n",
            "Collecting httpcore==1.* (from httpx<1,>=0.23.0->langsmith<0.2.0,>=0.1.125->langchain-community)\n",
            "  Downloading httpcore-1.0.6-py3-none-any.whl.metadata (21 kB)\n",
            "Collecting h11<0.15,>=0.13 (from httpcore==1.*->httpx<1,>=0.23.0->langsmith<0.2.0,>=0.1.125->langchain-community)\n",
            "  Downloading h11-0.14.0-py3-none-any.whl.metadata (8.2 kB)\n",
            "Collecting jsonpointer>=1.9 (from jsonpatch<2.0,>=1.33->langchain-core<0.4.0,>=0.3.12->langchain-openai)\n",
            "  Downloading jsonpointer-3.0.0-py2.py3-none-any.whl.metadata (2.3 kB)\n",
            "Requirement already satisfied: annotated-types>=0.6.0 in /usr/local/lib/python3.10/dist-packages (from pydantic<3.0.0,>=2.7.4->langchain<0.4.0,>=0.3.4->langchain-community) (0.7.0)\n",
            "Requirement already satisfied: pydantic-core==2.23.4 in /usr/local/lib/python3.10/dist-packages (from pydantic<3.0.0,>=2.7.4->langchain<0.4.0,>=0.3.4->langchain-community) (2.23.4)\n",
            "Collecting mypy-extensions>=0.3.0 (from typing-inspect<1,>=0.4.0->dataclasses-json<0.7,>=0.5.7->langchain-community)\n",
            "  Downloading mypy_extensions-1.0.0-py3-none-any.whl.metadata (1.1 kB)\n",
            "Requirement already satisfied: propcache>=0.2.0 in /usr/local/lib/python3.10/dist-packages (from yarl<2.0,>=1.12.0->aiohttp<4.0.0,>=3.8.3->langchain-community) (0.2.0)\n",
            "Downloading langchain_openai-0.2.3-py3-none-any.whl (49 kB)\n",
            "\u001b[2K   \u001b[90m━━━━━━━━━━━━━━━━━━━━━━━━━━━━━━━━━━━━━━━━\u001b[0m \u001b[32m49.9/49.9 kB\u001b[0m \u001b[31m3.0 MB/s\u001b[0m eta \u001b[36m0:00:00\u001b[0m\n",
            "\u001b[?25hDownloading tiktoken-0.8.0-cp310-cp310-manylinux_2_17_x86_64.manylinux2014_x86_64.whl (1.2 MB)\n",
            "\u001b[2K   \u001b[90m━━━━━━━━━━━━━━━━━━━━━━━━━━━━━━━━━━━━━━━━\u001b[0m \u001b[32m1.2/1.2 MB\u001b[0m \u001b[31m24.7 MB/s\u001b[0m eta \u001b[36m0:00:00\u001b[0m\n",
            "\u001b[?25hDownloading langchain_community-0.3.3-py3-none-any.whl (2.4 MB)\n",
            "\u001b[2K   \u001b[90m━━━━━━━━━━━━━━━━━━━━━━━━━━━━━━━━━━━━━━━━\u001b[0m \u001b[32m2.4/2.4 MB\u001b[0m \u001b[31m58.8 MB/s\u001b[0m eta \u001b[36m0:00:00\u001b[0m\n",
            "\u001b[?25hDownloading dataclasses_json-0.6.7-py3-none-any.whl (28 kB)\n",
            "Downloading langchain-0.3.4-py3-none-any.whl (1.0 MB)\n",
            "\u001b[2K   \u001b[90m━━━━━━━━━━━━━━━━━━━━━━━━━━━━━━━━━━━━━━━━\u001b[0m \u001b[32m1.0/1.0 MB\u001b[0m \u001b[31m43.4 MB/s\u001b[0m eta \u001b[36m0:00:00\u001b[0m\n",
            "\u001b[?25hDownloading langchain_core-0.3.12-py3-none-any.whl (407 kB)\n",
            "\u001b[2K   \u001b[90m━━━━━━━━━━━━━━━━━━━━━━━━━━━━━━━━━━━━━━━━\u001b[0m \u001b[32m407.7/407.7 kB\u001b[0m \u001b[31m24.3 MB/s\u001b[0m eta \u001b[36m0:00:00\u001b[0m\n",
            "\u001b[?25hDownloading langsmith-0.1.136-py3-none-any.whl (296 kB)\n",
            "\u001b[2K   \u001b[90m━━━━━━━━━━━━━━━━━━━━━━━━━━━━━━━━━━━━━━━━\u001b[0m \u001b[32m296.7/296.7 kB\u001b[0m \u001b[31m18.3 MB/s\u001b[0m eta \u001b[36m0:00:00\u001b[0m\n",
            "\u001b[?25hDownloading openai-1.52.0-py3-none-any.whl (386 kB)\n",
            "\u001b[2K   \u001b[90m━━━━━━━━━━━━━━━━━━━━━━━━━━━━━━━━━━━━━━━━\u001b[0m \u001b[32m386.9/386.9 kB\u001b[0m \u001b[31m19.9 MB/s\u001b[0m eta \u001b[36m0:00:00\u001b[0m\n",
            "\u001b[?25hDownloading pydantic_settings-2.6.0-py3-none-any.whl (28 kB)\n",
            "Downloading httpx-0.27.2-py3-none-any.whl (76 kB)\n",
            "\u001b[2K   \u001b[90m━━━━━━━━━━━━━━━━━━━━━━━━━━━━━━━━━━━━━━━━\u001b[0m \u001b[32m76.4/76.4 kB\u001b[0m \u001b[31m4.1 MB/s\u001b[0m eta \u001b[36m0:00:00\u001b[0m\n",
            "\u001b[?25hDownloading httpcore-1.0.6-py3-none-any.whl (78 kB)\n",
            "\u001b[2K   \u001b[90m━━━━━━━━━━━━━━━━━━━━━━━━━━━━━━━━━━━━━━━━\u001b[0m \u001b[32m78.0/78.0 kB\u001b[0m \u001b[31m5.2 MB/s\u001b[0m eta \u001b[36m0:00:00\u001b[0m\n",
            "\u001b[?25hDownloading jiter-0.6.1-cp310-cp310-manylinux_2_17_x86_64.manylinux2014_x86_64.whl (325 kB)\n",
            "\u001b[2K   \u001b[90m━━━━━━━━━━━━━━━━━━━━━━━━━━━━━━━━━━━━━━━━\u001b[0m \u001b[32m325.2/325.2 kB\u001b[0m \u001b[31m21.3 MB/s\u001b[0m eta \u001b[36m0:00:00\u001b[0m\n",
            "\u001b[?25hDownloading jsonpatch-1.33-py2.py3-none-any.whl (12 kB)\n",
            "Downloading langchain_text_splitters-0.3.0-py3-none-any.whl (25 kB)\n",
            "Downloading marshmallow-3.23.0-py3-none-any.whl (49 kB)\n",
            "\u001b[2K   \u001b[90m━━━━━━━━━━━━━━━━━━━━━━━━━━━━━━━━━━━━━━━━\u001b[0m \u001b[32m49.5/49.5 kB\u001b[0m \u001b[31m3.2 MB/s\u001b[0m eta \u001b[36m0:00:00\u001b[0m\n",
            "\u001b[?25hDownloading orjson-3.10.9-cp310-cp310-manylinux_2_17_x86_64.manylinux2014_x86_64.whl (144 kB)\n",
            "\u001b[2K   \u001b[90m━━━━━━━━━━━━━━━━━━━━━━━━━━━━━━━━━━━━━━━━\u001b[0m \u001b[32m144.5/144.5 kB\u001b[0m \u001b[31m8.8 MB/s\u001b[0m eta \u001b[36m0:00:00\u001b[0m\n",
            "\u001b[?25hDownloading python_dotenv-1.0.1-py3-none-any.whl (19 kB)\n",
            "Downloading requests_toolbelt-1.0.0-py2.py3-none-any.whl (54 kB)\n",
            "\u001b[2K   \u001b[90m━━━━━━━━━━━━━━━━━━━━━━━━━━━━━━━━━━━━━━━━\u001b[0m \u001b[32m54.5/54.5 kB\u001b[0m \u001b[31m3.5 MB/s\u001b[0m eta \u001b[36m0:00:00\u001b[0m\n",
            "\u001b[?25hDownloading typing_inspect-0.9.0-py3-none-any.whl (8.8 kB)\n",
            "Downloading jsonpointer-3.0.0-py2.py3-none-any.whl (7.6 kB)\n",
            "Downloading mypy_extensions-1.0.0-py3-none-any.whl (4.7 kB)\n",
            "Downloading h11-0.14.0-py3-none-any.whl (58 kB)\n",
            "\u001b[2K   \u001b[90m━━━━━━━━━━━━━━━━━━━━━━━━━━━━━━━━━━━━━━━━\u001b[0m \u001b[32m58.3/58.3 kB\u001b[0m \u001b[31m3.5 MB/s\u001b[0m eta \u001b[36m0:00:00\u001b[0m\n",
            "\u001b[?25hInstalling collected packages: python-dotenv, orjson, mypy-extensions, marshmallow, jsonpointer, jiter, h11, typing-inspect, tiktoken, requests-toolbelt, jsonpatch, httpcore, pydantic-settings, httpx, dataclasses-json, openai, langsmith, langchain-core, langchain-text-splitters, langchain-openai, langchain, langchain-community\n",
            "Successfully installed dataclasses-json-0.6.7 h11-0.14.0 httpcore-1.0.6 httpx-0.27.2 jiter-0.6.1 jsonpatch-1.33 jsonpointer-3.0.0 langchain-0.3.4 langchain-community-0.3.3 langchain-core-0.3.12 langchain-openai-0.2.3 langchain-text-splitters-0.3.0 langsmith-0.1.136 marshmallow-3.23.0 mypy-extensions-1.0.0 openai-1.52.0 orjson-3.10.9 pydantic-settings-2.6.0 python-dotenv-1.0.1 requests-toolbelt-1.0.0 tiktoken-0.8.0 typing-inspect-0.9.0\n"
          ]
        }
      ],
      "source": [
        "!pip install langchain-openai tiktoken langchain-community"
      ]
    },
    {
      "cell_type": "code",
      "source": [
        "import os\n",
        "from langchain_openai import ChatOpenAI"
      ],
      "metadata": {
        "id": "TxUJfmZEgCPh"
      },
      "execution_count": null,
      "outputs": []
    },
    {
      "cell_type": "code",
      "source": [
        "api_key_path = \"/content/gpt_api.txt\"\n",
        "with open(api_key_path, \"rt\") as f:\n",
        "    api_key = f.read().strip()\n",
        "\n",
        "os.environ[\"OPENAI_API_KEY\"] = api_key"
      ],
      "metadata": {
        "id": "3xGOhDYdgpe7"
      },
      "execution_count": null,
      "outputs": []
    },
    {
      "cell_type": "code",
      "source": [
        "## single chain\n",
        "model = ChatOpenAI(model_name=\"gpt-4o-mini\")\n",
        "\n",
        "result = model.invoke(\"World the most driest desert? answer shortly\")\n",
        "result.content"
      ],
      "metadata": {
        "colab": {
          "base_uri": "https://localhost:8080/",
          "height": 35
        },
        "id": "ztqaq9TghEtH",
        "outputId": "e5a69332-622a-4c7d-9fdf-fab49cb6f378"
      },
      "execution_count": null,
      "outputs": [
        {
          "output_type": "execute_result",
          "data": {
            "text/plain": [
              "'The driest desert in the world is the Atacama Desert, located in northern Chile.'"
            ],
            "application/vnd.google.colaboratory.intrinsic+json": {
              "type": "string"
            }
          },
          "metadata": {},
          "execution_count": 5
        }
      ]
    },
    {
      "cell_type": "code",
      "source": [
        "from langchain_core.prompts import ChatPromptTemplate"
      ],
      "metadata": {
        "id": "oFF9IXjJh-Fu"
      },
      "execution_count": null,
      "outputs": []
    },
    {
      "cell_type": "code",
      "source": [
        "template = \"you are an export on coffee. Answer the question in shortly. <question> : {question}\"\n",
        "prompt = ChatPromptTemplate.from_template(template)\n",
        "\n",
        "chain = prompt | model\n",
        "\n",
        "result = chain.invoke({\"question\": \"world best top 5 coffee?\"})"
      ],
      "metadata": {
        "id": "uaq4OyJCiSvH"
      },
      "execution_count": null,
      "outputs": []
    },
    {
      "cell_type": "code",
      "source": [
        "print(result.content)"
      ],
      "metadata": {
        "colab": {
          "base_uri": "https://localhost:8080/"
        },
        "id": "Cdw76sKKnQFB",
        "outputId": "8990278e-a553-4362-dea8-e051c2716a84"
      },
      "execution_count": null,
      "outputs": [
        {
          "output_type": "stream",
          "name": "stdout",
          "text": [
            "The top 5 best coffees in the world, often highlighted for their quality and flavor, include:\n",
            "\n",
            "1. **Jamaican Blue Mountain** - Known for its mild flavor and lack of bitterness.\n",
            "2. **Panama Geisha** - Celebrated for its floral and fruity notes, often used in specialty brews.\n",
            "3. **Ethiopian Yirgacheffe** - Renowned for its bright acidity and complex flavor profile with citrus and floral notes.\n",
            "4. **Colombian Supremo** - Offers a smooth, well-balanced taste and is popular globally.\n",
            "5. **Hawaiian Kona** - Valued for its rich flavor and smooth finish, grown in the volcanic soil of Hawaii.\n",
            "\n",
            "These coffees are often sought after for their unique characteristics and high quality.\n"
          ]
        }
      ]
    },
    {
      "cell_type": "code",
      "source": [
        "from langchain_core.output_parsers import StrOutputParser\n",
        "\n",
        "chat_model = ChatOpenAI(model = \"gpt-4o-mini\")\n",
        "\n",
        "template = \"당신은 세계 최고의 축구 스카우트 입니다. 다음의 질문에 답해 주세요. <질문> : {question}\"\n",
        "prompt = ChatPromptTemplate.from_template(template)\n",
        "\n",
        "chain1 = prompt | chat_model | StrOutputParser()\n",
        "\n",
        "result = chain1.invoke({\"question\": \"2024년 기준 아시아에서 어떤 선수를 데리고와야 할까? 5명만 뽑아줘\"})"
      ],
      "metadata": {
        "id": "eGq8CU3nob1T"
      },
      "execution_count": null,
      "outputs": []
    },
    {
      "cell_type": "code",
      "source": [
        "print(result)"
      ],
      "metadata": {
        "colab": {
          "base_uri": "https://localhost:8080/"
        },
        "id": "PoOftaxRpzQq",
        "outputId": "8c70bf44-3066-4023-9759-125b59996f24"
      },
      "execution_count": null,
      "outputs": [
        {
          "output_type": "stream",
          "name": "stdout",
          "text": [
            "2024년 기준 아시아에서 주목할 만한 축구 선수 다섯 명을 추천하겠습니다. 이 선수들은 현재 뛰어난 기량과 잠재력을 가지고 있으며, 팀에 큰 도움이 될 수 있는 선수들입니다.\n",
            "\n",
            "1. **오사카 다이치 (Daichi Osaka)** - 일본\n",
            "   - 뛰어난 드리블과 패스 능력을 가진 공격형 미드필더로, 일본 대표팀에서도 중요한 역할을 하고 있습니다. 그의 창의력과 경기 조율 능력은 팀에 큰 도움이 될 것입니다.\n",
            "\n",
            "2. **이강인 (Lee Kang-in)** - 대한민국\n",
            "   - 스페인 라리가에서 활발히 활동하고 있는 재능 있는 미드필더로, 뛰어난 기술과 비전으로 주목받고 있습니다. 공격적인 플레이를 통해 팀의 득점에 기여할 수 있습니다.\n",
            "\n",
            "3. **알리 굴리프 (Ali Gholizadeh)** - 이란\n",
            "   - 빠른 스피드와 드리블 능력을 가진 윙어로, 이란 대표팀에서도 중요한 역할을 하고 있습니다. 그의 날카로운 크로스와 돌파 능력은 팀의 공격에 큰 도움이 될 것입니다.\n",
            "\n",
            "4. **알리레자 자한바흐쉬 (Alireza Jahanbakhsh)** - 이란\n",
            "   - UEFA 챔피언스리그와 프리미어리그에서 경험을 쌓은 공격수로, 뛰어난 슈팅 능력과 위치 선정으로 알려져 있습니다. 다양한 포지션에서 활약 가능하며, 득점력과 경험을 팀에 더할 수 있습니다.\n",
            "\n",
            "5. **사카이 히로키 (Hiroki Sakai)** - 일본\n",
            "   - 안정적인 수비력과 공격 가담 능력을 겸비한 풀백으로, 일본 대표팀의 핵심 수비수 중 한 명입니다. 그의 경험과 리더십은 팀의 수비라인을 더욱 견고하게 만들어 줄 것입니다.\n",
            "\n",
            "이 선수들은 각자의 포지션에서 뛰어난 기량을 발휘하고 있으며, 팀의 전반적인 수준을 높일 수 있는 잠재력을 가지고 있습니다.\n"
          ]
        }
      ]
    },
    {
      "cell_type": "code",
      "source": [
        "from langchain_core.messages import SystemMessage, HumanMessage\n",
        "\n",
        "model = ChatOpenAI(model = \"gpt-4o-mini\")\n",
        "\n",
        "messages = [\n",
        "    SystemMessage(content=\"you are an expert on neurodisorder\"),\n",
        "    HumanMessage(content=\"what is Alzheimer's diseases?\")\n",
        "]\n",
        "\n",
        "result = model.invoke(messages)\n",
        "result.content"
      ],
      "metadata": {
        "colab": {
          "base_uri": "https://localhost:8080/",
          "height": 122
        },
        "id": "7QSjHCA7rS9U",
        "outputId": "8901aae0-3f4c-4911-ecb4-5221ce97b648"
      },
      "execution_count": null,
      "outputs": [
        {
          "output_type": "execute_result",
          "data": {
            "text/plain": [
              "\"Alzheimer's disease is a progressive neurodegenerative disorder that primarily affects memory, thinking, and behavior. It is the most common cause of dementia, accounting for 60-80% of cases. The disease is characterized by the gradual decline of cognitive functions, which can interfere with daily life and independence.\\n\\n### Key Features of Alzheimer's Disease:\\n\\n1. **Memory Loss**: One of the earliest and most noticeable symptoms is difficulty remembering recent events or conversations. Individuals may frequently ask the same questions or repeat themselves.\\n\\n2. **Cognitive Decline**: As the disease progresses, individuals may experience challenges with problem-solving, planning, and performing familiar tasks, such as cooking or managing finances.\\n\\n3. **Language Difficulties**: People with Alzheimer's may struggle to find the right words, follow conversations, or understand complex sentences.\\n\\n4. **Disorientation**: Individuals may become confused about time, place, or the identity of familiar people.\\n\\n5. **Behavioral Changes**: Mood swings, anxiety, depression, social withdrawal, and changes in personality can occur. Some individuals may also exhibit agitation or aggressive behavior.\\n\\n6. **Physical Decline**: In the later stages, individuals may lose the ability to perform basic self-care tasks and may require assistance with daily activities.\\n\\n### Causes and Risk Factors:\\n\\nThe exact cause of Alzheimer's disease is not fully understood, but it is believed to involve a combination of genetic, environmental, and lifestyle factors. Key risk factors include:\\n\\n- **Age**: The risk increases significantly with age, particularly after age 65.\\n- **Family History**: Genetics can play a role, with certain genes associated with an increased risk.\\n- **Other Health Conditions**: Conditions such as cardiovascular disease, diabetes, and obesity may increase risk.\\n- **Lifestyle Factors**: Lack of physical activity, poor diet, smoking, and low cognitive engagement may contribute to the risk.\\n\\n### Diagnosis:\\n\\nDiagnosis typically involves a combination of medical history, cognitive assessments, neurological exams, and sometimes brain imaging techniques such as MRI or PET scans. There are no definitive tests for Alzheimer's, but certain biomarkers can be indicative of the disease.\\n\\n### Treatment:\\n\\nThere is currently no cure for Alzheimer's disease, but some medications can help manage symptoms or slow disease progression. These include:\\n\\n- **Cholinesterase Inhibitors**: Medications like donepezil, rivastigmine, and galantamine can help improve communication between nerve cells.\\n- **Memantine**: This medication may help regulate glutamate activity in the brain and is often prescribed for moderate to severe Alzheimer's.\\n\\nIn addition to medications, supportive care, lifestyle changes, and therapies (such as cognitive stimulation therapy) can help improve quality of life for individuals and families affected by the disease.\\n\\n### Conclusion:\\n\\nAlzheimer's disease is a complex and challenging condition that impacts not just the individuals diagnosed but also their families and caregivers. Ongoing research aims to better understand the disease and develop more effective treatments and interventions.\""
            ],
            "application/vnd.google.colaboratory.intrinsic+json": {
              "type": "string"
            }
          },
          "metadata": {},
          "execution_count": 11
        }
      ]
    },
    {
      "cell_type": "code",
      "source": [
        "## multi chain\n",
        "prompt1 = ChatPromptTemplate.from_template(\"다음에 나오는 문장 또는 단어 {korean_word}를 영어로 번역해 주세요\")\n",
        "prompt2 = ChatPromptTemplate.from_template(\n",
        "    '''You are a helpful assistant.\n",
        "    Answer the question in English.\n",
        "    <question> : {English_word}\n",
        "    '''\n",
        ")\n",
        "prompt3 = ChatPromptTemplate.from_template(\n",
        "    '''You are a helpful assistant.\n",
        "    Answer the translate in Korean.\n",
        "    <question> : {korean_word2}\n",
        "    '''\n",
        ")\n",
        "model = ChatOpenAI(model = \"gpt-4o-mini\")\n",
        "\n",
        "chain1 = prompt1 | model | StrOutputParser()\n",
        "chain2 = {\"English_word\" : chain1} | prompt2 | model | StrOutputParser()\n",
        "chain3 = {\"korean_word2\" : chain2} | prompt3 | model | StrOutputParser()\n",
        "\n",
        "#chain1.invoke({\"korean_word\" : \"철학\"})\n",
        "result1 = chain1.invoke({\"korean_word\" : \"사과가 땅으로 떨어지는 이유?\"})\n",
        "result2 = chain2.invoke({\"korean_word\" : \"사과가 땅으로 떨어지는 이유?\"})\n",
        "result3 = chain3.invoke({\"korean_word\" : \"사과가 땅으로 떨어지는 이유?\"})"
      ],
      "metadata": {
        "id": "F3Tl75AGtJNR"
      },
      "execution_count": null,
      "outputs": []
    },
    {
      "cell_type": "code",
      "source": [
        "result1"
      ],
      "metadata": {
        "colab": {
          "base_uri": "https://localhost:8080/",
          "height": 35
        },
        "id": "VJHoonoywce7",
        "outputId": "25187c33-ec56-4176-e880-a7ece236fadc"
      },
      "execution_count": null,
      "outputs": [
        {
          "output_type": "execute_result",
          "data": {
            "text/plain": [
              "'\"Why does the apple fall to the ground?\"'"
            ],
            "application/vnd.google.colaboratory.intrinsic+json": {
              "type": "string"
            }
          },
          "metadata": {},
          "execution_count": 13
        }
      ]
    },
    {
      "cell_type": "code",
      "source": [
        "result2"
      ],
      "metadata": {
        "colab": {
          "base_uri": "https://localhost:8080/",
          "height": 70
        },
        "id": "NXbYfr4cwfII",
        "outputId": "0272611c-01a7-473f-9aef-05b76d212aa0"
      },
      "execution_count": null,
      "outputs": [
        {
          "output_type": "execute_result",
          "data": {
            "text/plain": [
              "\"The apple falls to the ground due to the force of gravity. Gravity is a natural force that pulls objects with mass toward each other. In this case, the Earth has a much larger mass than the apple, so it exerts a gravitational pull on the apple, causing it to fall toward the ground when it becomes detached from the tree. This phenomenon is explained by Sir Isaac Newton's law of universal gravitation.\""
            ],
            "application/vnd.google.colaboratory.intrinsic+json": {
              "type": "string"
            }
          },
          "metadata": {},
          "execution_count": 14
        }
      ]
    },
    {
      "cell_type": "code",
      "source": [
        "result3"
      ],
      "metadata": {
        "colab": {
          "base_uri": "https://localhost:8080/",
          "height": 52
        },
        "id": "2ZyIn38cza6s",
        "outputId": "27c914f6-2300-4d38-eda2-14b37f235f3f"
      },
      "execution_count": null,
      "outputs": [
        {
          "output_type": "execute_result",
          "data": {
            "text/plain": [
              "'사과는 중력의 힘 때문에 땅에 떨어집니다. 중력은 질량이 있는 물체를 서로 끌어당기는 자연의 힘입니다. 이 경우, 지구는 사과보다 훨씬 더 큰 질량을 가지고 있어, 사과에 중력 작용을 가해 아래로 끌어당깁니다. 사과가 나무에서 떨어질 때, 이 중력의 힘을 반대할 수 있는 것이 없기 때문에 사과는 떨어지게 됩니다.'"
            ],
            "application/vnd.google.colaboratory.intrinsic+json": {
              "type": "string"
            }
          },
          "metadata": {},
          "execution_count": 15
        }
      ]
    },
    {
      "cell_type": "code",
      "source": [
        "prompt3 = ChatPromptTemplate.from_template(\"You are a helpful assistant. translate the following {input} in English.\")\n",
        "chain3 = {\"English_word\" : chain1} | prompt2 | model | {\"input\" : StrOutputParser()} | prompt3 | model | StrOutputParser()"
      ],
      "metadata": {
        "id": "J2PcM-wE2I0L"
      },
      "execution_count": null,
      "outputs": []
    },
    {
      "cell_type": "code",
      "source": [
        "result3 = chain3.invoke({\"korean_word\" : \"사과가 땅으로 떨어지는 이유?\"})"
      ],
      "metadata": {
        "id": "KYGzoY0n2czl"
      },
      "execution_count": null,
      "outputs": []
    },
    {
      "cell_type": "code",
      "source": [
        "result3"
      ],
      "metadata": {
        "colab": {
          "base_uri": "https://localhost:8080/",
          "height": 35
        },
        "id": "XzfHPgx43Tgk",
        "outputId": "929c4f09-d1a2-4389-f698-a551fcaa65a6"
      },
      "execution_count": null,
      "outputs": [
        {
          "output_type": "execute_result",
          "data": {
            "text/plain": [
              "'The text you provided is already in English. Would you like me to translate it into another language? If so, please specify the language.'"
            ],
            "application/vnd.google.colaboratory.intrinsic+json": {
              "type": "string"
            }
          },
          "metadata": {},
          "execution_count": 18
        }
      ]
    },
    {
      "cell_type": "code",
      "source": [
        "## chain batch\n",
        "template = \"당신은 저명한 신경과 의사 입니다. 다음 질문 {input}에 짧게 답해 주세요.\"\n",
        "prompt = ChatPromptTemplate.from_template(template)\n",
        "model = ChatOpenAI(model = \"gpt-4o-mini\")\n",
        "\n",
        "chain = prompt | model | StrOutputParser()\n",
        "\n",
        "topics = [\"우울증\", \"크로이츠펠트 제이콥병\"]\n",
        "\n",
        "results = chain.batch([{\"input\" : t} for t in topics])\n",
        "\n",
        "for topic, result in zip(topics, results):\n",
        "    print(f\"{topic} 설명 : {result}\")"
      ],
      "metadata": {
        "colab": {
          "base_uri": "https://localhost:8080/"
        },
        "id": "HXzw_0_J3tcy",
        "outputId": "fac4460b-00a7-4eb5-f994-7d63bf4646ce"
      },
      "execution_count": null,
      "outputs": [
        {
          "output_type": "stream",
          "name": "stdout",
          "text": [
            "우울증 설명 : 우울증은 기분, 생각, 행동에 영향을 미치는 정신 건강 문제로, 슬픔, 무기력, 흥미 상실 등의 증상이 나타납니다. 치료는 상담, 약물 요법, 생활 습관 변화 등을 포함할 수 있으며, 조기 진단과 치료가 중요합니다.\n",
            "크로이츠펠트 제이콥병 설명 : 크로이츠펠트-야콥병(Creutzfeldt-Jakob disease, CJD)은 희귀한 신경퇴행성 질환으로, 프리온 단백질의 비정상적인 변형에 의해 발생합니다. 주로 빠른 진행의 치매, 신경학적 증상(예: 운동 조정 장애, 시각적 변화) 등을 초래하며, 치료법은 없고, 대개 몇 개월에서 1-2년 이내에 사망에 이릅니다. CJD에는 여러 유형이 있으며, 발생 원인에 따라 유전적, 감염성, 혹은 우연적 형태가 있습니다.\n"
          ]
        }
      ]
    },
    {
      "cell_type": "code",
      "source": [
        "import os\n",
        "from langchain_openai import ChatOpenAI\n",
        "from langchain_core.prompts import ChatPromptTemplate\n",
        "from langchain_core.output_parsers import StrOutputParser\n",
        "\n",
        "template = \"다음의 내용 {input}을 간략히 화난 어조로 설명해 주세요\"\n",
        "prompt = ChatPromptTemplate.from_template(template)\n",
        "model = ChatOpenAI(model = \"gpt-4o-mini\")\n",
        "\n",
        "chain = prompt | model | StrOutputParser()"
      ],
      "metadata": {
        "id": "x4Sw13FdS22T"
      },
      "execution_count": null,
      "outputs": []
    },
    {
      "cell_type": "code",
      "source": [
        "import time\n",
        "stream = chain.stream({\"input\" : \"노벨상\"})\n",
        "\n",
        "for s in stream:\n",
        "    print(s, end = \"\")\n",
        "    time.sleep(0.05)\n"
      ],
      "metadata": {
        "colab": {
          "base_uri": "https://localhost:8080/"
        },
        "id": "AHV8ajvqUwvG",
        "outputId": "676352f4-c96a-45b5-b504-841277ca6936"
      },
      "execution_count": null,
      "outputs": [
        {
          "output_type": "stream",
          "name": "stdout",
          "text": [
            "노벨상? 정말 말도 안 되는 일이야! 매년 이 상이 누가 받을지 온갖 논란이 일어나고, 진짜 중요한 업적은 종종 간과되고 말이지. 누가 선정하는지, 기준은 뭔지 항상 불투명해! 그리고 정치적 이유로 상을 주거나 안 주는 경우도 허다해. 이렇게 중요한 상이 이렇게 엉망으로 운영되다니, 정말 실망스럽고 화가 나! 제대로 된 평가와 공정한 심사가 이루어져야 하는 거 아닌가?"
          ]
        }
      ]
    },
    {
      "cell_type": "code",
      "source": [
        "template = \"My interest is {topic} field. I put all my money into {company}\"\n",
        "\n",
        "prompt = ChatPromptTemplate.from_template(template)\n",
        "filled_prompt = prompt.format(topic = \"*AI\", company = \"*Google\")\n",
        "\n",
        "print(filled_prompt)"
      ],
      "metadata": {
        "colab": {
          "base_uri": "https://localhost:8080/"
        },
        "id": "xsoNhlwqWFWN",
        "outputId": "1d2ccded-e434-47b4-9316-f99565cc40bb"
      },
      "execution_count": null,
      "outputs": [
        {
          "output_type": "stream",
          "name": "stdout",
          "text": [
            "Human: My interest is *AI field. I put all my money into *Google\n"
          ]
        }
      ]
    },
    {
      "cell_type": "code",
      "source": [
        "template = \"You are a senior neurologist. Explain the question in pretty shortly: <question> : {input}\"\n",
        "prompt = ChatPromptTemplate.from_template(template)\n",
        "chat = ChatOpenAI(model = \"gpt-4o-mini\",\n",
        "                  temperature=0.7,\n",
        "                  max_tokens=50,\n",
        "                  frequency_penalty=0.5,\n",
        "                  presence_penalty=0.5,\n",
        "                  stop = [\"fuck\", \"racism\"])\n",
        "\n",
        "chain = prompt | chat | StrOutputParser()\n",
        "chain.invoke({\"input\" : \"what is dimentia?\"})\n"
      ],
      "metadata": {
        "colab": {
          "base_uri": "https://localhost:8080/",
          "height": 52
        },
        "id": "jnM1I01pXb0F",
        "outputId": "e9d18b22-0071-4f36-abb5-3cda4f3378fe"
      },
      "execution_count": null,
      "outputs": [
        {
          "output_type": "execute_result",
          "data": {
            "text/plain": [
              "\"Dementia is a general term for a decline in cognitive function that interferes with daily life. It encompasses various symptoms, including memory loss, difficulty thinking, problem-solving issues, and changes in mood or behavior. Alzheimer's disease is the most common type\""
            ],
            "application/vnd.google.colaboratory.intrinsic+json": {
              "type": "string"
            }
          },
          "metadata": {},
          "execution_count": 23
        }
      ]
    },
    {
      "cell_type": "code",
      "source": [
        "from langchain_core.messages import AIMessage, SystemMessage, HumanMessage\n",
        "\n",
        "model = ChatOpenAI(model = \"gpt-4o-mini\")\n",
        "\n",
        "chat_history = []\n",
        "system_message = SystemMessage(content=\"당신은 친절한 심리 상담사 입니다. 따뜻한 어조로 답해주세요\")\n",
        "chat_history.append(system_message)\n",
        "print(chat_history)\n",
        "\n",
        "while True:\n",
        "  query = input(\"입력: \")\n",
        "  if query.lower() == \"exit\":\n",
        "    break\n",
        "\n",
        "  chat_history.append(HumanMessage(content=query))\n",
        "  result = model.invoke(chat_history)\n",
        "  responese = result.content\n",
        "  chat_history.append(AIMessage(content=responese))\n",
        "  print(f\"AI 상담사: {responese}\")\n",
        "\n",
        "print(\"상담기록 = \\n\")\n",
        "print(chat_history)"
      ],
      "metadata": {
        "colab": {
          "base_uri": "https://localhost:8080/"
        },
        "id": "uCPfi071jmpH",
        "outputId": "470bbaf5-127e-4f3c-f077-d0a60e7384cc"
      },
      "execution_count": null,
      "outputs": [
        {
          "output_type": "stream",
          "name": "stdout",
          "text": [
            "[SystemMessage(content='당신은 친절한 심리 상담사 입니다. 따뜻한 어조로 답해주세요', additional_kwargs={}, response_metadata={})]\n",
            "입력: exit\n",
            "상담기록 = \n",
            "\n",
            "[SystemMessage(content='당신은 친절한 심리 상담사 입니다. 따뜻한 어조로 답해주세요', additional_kwargs={}, response_metadata={})]\n"
          ]
        }
      ]
    },
    {
      "cell_type": "code",
      "source": [
        "## RAG\n",
        "os.environ[\"USER_AGENT\"] = \"SEJONG_AGENT\""
      ],
      "metadata": {
        "id": "ZIGwdhT0tzxS"
      },
      "execution_count": null,
      "outputs": []
    },
    {
      "cell_type": "code",
      "source": [
        "from langchain_community.document_loaders import WebBaseLoader"
      ],
      "metadata": {
        "id": "onm2P3VFuOMz"
      },
      "execution_count": null,
      "outputs": []
    },
    {
      "cell_type": "code",
      "source": [
        "## URL\n",
        "url = \"https://ko.wikipedia.org/wiki/%EC%9C%84%ED%82%A4%EB%B0%B1%EA%B3%BC:%EC%A0%95%EC%B1%85%EA%B3%BC_%EC%A7%80%EC%B9%A8\"\n",
        "loader = WebBaseLoader(url)\n",
        "\n",
        "docs = loader.load()"
      ],
      "metadata": {
        "id": "wrZVJhdrudtT"
      },
      "execution_count": null,
      "outputs": []
    },
    {
      "cell_type": "code",
      "source": [
        "\n",
        "print(\"docs len : \", len(docs))\n",
        "print(\"docs meta : \", docs[0].metadata)\n",
        "print(\"docs page content : \", docs[0].page_content)"
      ],
      "metadata": {
        "colab": {
          "base_uri": "https://localhost:8080/"
        },
        "id": "DD_qNUCBvMaT",
        "outputId": "88e4051a-624c-4801-9a60-fa1aaef31acc"
      },
      "execution_count": null,
      "outputs": [
        {
          "output_type": "stream",
          "name": "stdout",
          "text": [
            "docs len :  1\n",
            "docs meta :  {'source': 'https://ko.wikipedia.org/wiki/%EC%9C%84%ED%82%A4%EB%B0%B1%EA%B3%BC:%EC%A0%95%EC%B1%85%EA%B3%BC_%EC%A7%80%EC%B9%A8', 'title': '위키백과:정책과 지침 - 위키백과, 우리 모두의 백과사전', 'language': 'ko'}\n",
            "docs page content :  \n",
            "\n",
            "\n",
            "\n",
            "위키백과:정책과 지침 - 위키백과, 우리 모두의 백과사전\n",
            "\n",
            "\n",
            "\n",
            "\n",
            "\n",
            "\n",
            "\n",
            "\n",
            "\n",
            "\n",
            "\n",
            "\n",
            "\n",
            "\n",
            "\n",
            "\n",
            "\n",
            "\n",
            "\n",
            "\n",
            "\n",
            "\n",
            "\n",
            "\n",
            "\n",
            "\n",
            "\n",
            "본문으로 이동\n",
            "\n",
            "\n",
            "\n",
            "\n",
            "\n",
            "\n",
            "\n",
            "주 메뉴\n",
            "\n",
            "\n",
            "\n",
            "\n",
            "\n",
            "주 메뉴\n",
            "사이드바로 이동\n",
            "숨기기\n",
            "\n",
            "\n",
            "\n",
            "\t\t둘러보기\n",
            "\t\n",
            "\n",
            "\n",
            "대문최근 바뀜요즘 화제임의의 문서로\n",
            "\n",
            "\n",
            "\n",
            "\n",
            "\n",
            "\t\t사용자 모임\n",
            "\t\n",
            "\n",
            "\n",
            "사랑방사용자 모임관리 요청\n",
            "\n",
            "\n",
            "\n",
            "\n",
            "\n",
            "\t\t편집 안내\n",
            "\t\n",
            "\n",
            "\n",
            "소개도움말정책과 지침질문방\n",
            "\n",
            "\n",
            "\n",
            "\n",
            "\n",
            "\n",
            "\n",
            "\n",
            "\n",
            "\n",
            "\n",
            "\n",
            "\n",
            "\n",
            "\n",
            "\n",
            "\n",
            "\n",
            "\n",
            "검색\n",
            "\n",
            "\n",
            "\n",
            "\n",
            "\n",
            "\n",
            "\n",
            "\n",
            "\n",
            "\n",
            "\n",
            "검색\n",
            "\n",
            "\n",
            "\n",
            "\n",
            "\n",
            "\n",
            "\n",
            "\n",
            "\n",
            "\n",
            "\n",
            "\n",
            "\n",
            "\n",
            "\n",
            "기부\n",
            "\n",
            "\n",
            "\n",
            "\n",
            "\n",
            "\n",
            "\n",
            "\n",
            "보이기\n",
            "\n",
            "\n",
            "\n",
            "\n",
            "\n",
            "\n",
            "\n",
            "\n",
            "\n",
            "\n",
            "\n",
            "\n",
            "\n",
            "\n",
            "\n",
            "\n",
            "계정 만들기\n",
            "\n",
            "로그인\n",
            "\n",
            "\n",
            "\n",
            "\n",
            "\n",
            "\n",
            "\n",
            "\n",
            "개인 도구\n",
            "\n",
            "\n",
            "\n",
            "\n",
            "\n",
            " 계정 만들기 로그인\n",
            "\n",
            "\n",
            "\n",
            "\n",
            "\n",
            "\t\t로그아웃한 편집자를 위한 문서 더 알아보기\n",
            "\n",
            "\n",
            "\n",
            "기여토론\n",
            "\n",
            "\n",
            "\n",
            "\n",
            "\n",
            "\n",
            "\n",
            "\n",
            "\n",
            "\n",
            "\n",
            "\n",
            "\n",
            "\n",
            "\n",
            "\n",
            "\n",
            "\n",
            "\n",
            "\n",
            "\n",
            "\n",
            "\n",
            "\n",
            "\n",
            "\n",
            "\n",
            "\n",
            "목차\n",
            "사이드바로 이동\n",
            "숨기기\n",
            "\n",
            "\n",
            "\n",
            "\n",
            "처음 위치\n",
            "\n",
            "\n",
            "\n",
            "\n",
            "\n",
            "1\n",
            "최상위 정책\n",
            "\n",
            "\n",
            "\n",
            "\n",
            "\n",
            "\n",
            "\n",
            "\n",
            "2\n",
            "'정책과 지침'이란?\n",
            "\n",
            "\n",
            "\n",
            "\n",
            "\n",
            "\n",
            "\n",
            "\n",
            "3\n",
            "준수\n",
            "\n",
            "\n",
            "\n",
            "\n",
            "\n",
            "\n",
            "\n",
            "\n",
            "4\n",
            "집행\n",
            "\n",
            "\n",
            "\n",
            "\n",
            "\n",
            "\n",
            "\n",
            "\n",
            "5\n",
            "문서 내용\n",
            "\n",
            "\n",
            "\n",
            "\n",
            "\n",
            "\n",
            "\n",
            "\n",
            "6\n",
            "정책과 지침은 백과사전의 일부가 아닙니다\n",
            "\n",
            "\n",
            "\n",
            "\n",
            "\n",
            "\n",
            "\n",
            "\n",
            "7\n",
            "채택 과정\n",
            "\n",
            "\n",
            "\n",
            "\n",
            "채택 과정 하위섹션 토글하기\n",
            "\n",
            "\n",
            "\n",
            "\n",
            "\n",
            "7.1\n",
            "제안과 채택\n",
            "\n",
            "\n",
            "\n",
            "\n",
            "\n",
            "\n",
            "\n",
            "\n",
            "7.2\n",
            "내용 변경\n",
            "\n",
            "\n",
            "\n",
            "\n",
            "\n",
            "\n",
            "7.2.1\n",
            "실질적인 변경\n",
            "\n",
            "\n",
            "\n",
            "\n",
            "\n",
            "\n",
            "\n",
            "\n",
            "\n",
            "\n",
            "7.3\n",
            "격하\n",
            "\n",
            "\n",
            "\n",
            "\n",
            "\n",
            "\n",
            "\n",
            "\n",
            "\n",
            "\n",
            "8\n",
            "같이 보기\n",
            "\n",
            "\n",
            "\n",
            "\n",
            "\n",
            "\n",
            "\n",
            "\n",
            "9\n",
            "외부 링크\n",
            "\n",
            "\n",
            "\n",
            "\n",
            "\n",
            "\n",
            "\n",
            "\n",
            "\n",
            "\n",
            "\n",
            "\n",
            "\n",
            "\n",
            "\n",
            "\n",
            "\n",
            "\n",
            "목차 토글\n",
            "\n",
            "\n",
            "\n",
            "\n",
            "\n",
            "\n",
            "\n",
            "위키백과:정책과 지침\n",
            "\n",
            "\n",
            "\n",
            "108개 언어\n",
            "\n",
            "\n",
            "\n",
            "\n",
            "Afrikaansአማርኛالعربيةالدارجةمصرىঅসমীয়াАварAzərbaycancaتۆرکجهБашҡортсаBoarischБеларускаяБеларуская (тарашкевіца)БългарскиभोजपुरीBanjarবাংলাBrezhonegBosanskiCatalàНохчийнکوردیČeštinaCymraegDanskDeutschΕλληνικάEnglishEsperantoEspañolEuskaraفارسیSuomiFrançaisGaeilge贛語GalegoگیلکیBahasa Hulontaloעבריתहिन्दीHrvatskiHornjoserbsceMagyarՀայերենInterlinguaBahasa IndonesiaГӀалгӀайÍslenskaItaliano日本語ქართულიQaraqalpaqshaҚазақшаKalaallisutಕನ್ನಡकॉशुर / کٲشُرKurdîКыргызчаLëtzebuergeschລາວमैथिलीMinangkabauМакедонскиമലയാളംМонголBahasa Melayuမြန်မာဘာသာمازِرونیNapulitanoनेपालीNederlandsNorsk nynorskNorsk bokmålDiné bizaadPolskiپښتوPortuguêsRomani čhibRomânăРусскийSicilianuScotsسنڌيSrpskohrvatski / српскохрватскиසිංහලSimple EnglishSlovenčinaSlovenščinaShqipСрпски / srpskiSundaSvenskaதமிழ்ತುಳುТоҷикӣไทยTürkçeТатарча / tatarçaУдмуртУкраїнськаاردوOʻzbekcha / ўзбекчаTiếng ViệtייִדישYorùbá中文粵語\n",
            "\n",
            "링크 편집\n",
            "\n",
            "\n",
            "\n",
            "\n",
            "\n",
            "\n",
            "\n",
            "\n",
            "\n",
            "\n",
            "\n",
            "프로젝트 문서토론\n",
            "\n",
            "\n",
            "\n",
            "\n",
            "\n",
            "한국어\n",
            "\n",
            "\n",
            "\n",
            "\n",
            "\n",
            "\n",
            "\n",
            "\n",
            "\n",
            "\n",
            "\n",
            "\n",
            "\n",
            "\n",
            "\n",
            "\n",
            "\n",
            "읽기원본 보기역사 보기\n",
            "\n",
            "\n",
            "\n",
            "\n",
            "\n",
            "\n",
            "\n",
            "도구\n",
            "\n",
            "\n",
            "\n",
            "\n",
            "\n",
            "도구\n",
            "사이드바로 이동\n",
            "숨기기\n",
            "\n",
            "\n",
            "\n",
            "\t\t동작\n",
            "\t\n",
            "\n",
            "\n",
            "읽기원본 보기역사 보기\n",
            "\n",
            "\n",
            "\n",
            "\n",
            "\n",
            "\t\t일반\n",
            "\t\n",
            "\n",
            "\n",
            "여기를 가리키는 문서가리키는 글의 최근 바뀜파일 올리기특수 문서 목록고유 링크문서 정보축약된 URL 얻기QR 코드 다운로드위키데이터 항목\n",
            "\n",
            "\n",
            "\n",
            "\n",
            "\n",
            "\t\t인쇄/내보내기\n",
            "\t\n",
            "\n",
            "\n",
            "책 만들기PDF로 다운로드인쇄용 판\n",
            "\n",
            "\n",
            "\n",
            "\n",
            "\n",
            "\t\t다른 프로젝트\n",
            "\t\n",
            "\n",
            "\n",
            "위키미디어 공용위키미디어 재단미디어위키메타위키위키미디어 아웃리치위키생물종위키책위키데이터위키인용집위키문헌위키배움터\n",
            "\n",
            "\n",
            "\n",
            "\n",
            "\n",
            "\n",
            "\n",
            "\n",
            "\n",
            "\n",
            "\n",
            "\n",
            "\n",
            "\n",
            "\n",
            "\n",
            "\n",
            "\n",
            "\n",
            "\n",
            "\n",
            "보이기\n",
            "사이드바로 이동\n",
            "숨기기\n",
            "\n",
            "\n",
            "\n",
            "\n",
            "\n",
            "\n",
            "\n",
            "\n",
            "\n",
            "\n",
            "\n",
            "위키백과, 우리 모두의 백과사전.\n",
            "\n",
            "\n",
            "\n",
            "\n",
            "이 문서는 한국어 위키백과의 정책입니다.이것은 모든 사용자들이 일반적으로 따라야 하는 널리 인정된 기준입니다. 문서의 변경은 총의를 반영해야 합니다.단축백:정책백:지침백:규칙\n",
            "요약: 위키백과의 정책과 지침은 위키백과 공동체가 지켜야 할 규범과 사례를 모아둔 것을 의미합니다. 본 정책은 정책과 지침이 어떻게 만들어지고 유지하며 지켜야 하는 지에 대해 설명합니다.\n",
            "정책과 지침(목록)\n",
            "원칙\n",
            "다섯 원칙\n",
            "규칙에 얽매이지 마세요\n",
            "\n",
            "콘텐츠 정책(핵심)\n",
            "생존 인물의 전기\n",
            "중립적 시각\n",
            "독자 연구 금지\n",
            "확인 가능\n",
            "위키백과에 대한 오해\n",
            "\n",
            "행동 정책\n",
            "총의\n",
            "분쟁 해결\n",
            "편집 분쟁\n",
            "법적 위협 금지\n",
            "인신 공격 금지\n",
            "문서의 소유권\n",
            "계정 이름\n",
            "문서 훼손\n",
            "\n",
            "기타 정책 분류\n",
            "삭제 정책\n",
            "집행 정책\n",
            "법적 정책\n",
            "절차 정책\n",
            "\n",
            "목록\n",
            "정책 목록\n",
            "지침 목록\n",
            "vte\n",
            "위키백과의 정책(Policy)과 지침(Guideline)은 위키미디어 공동체가 모범적인 활동 방식, 분쟁 해결, 문서의 표준 작성 기준 등을 제시하기 위해 개발한 것들입니다. 이들의 최종 목표는 자유롭고 신뢰할 수 있는 백과사전 작성이지요. 그렇다고 해서 편집하기 전에 모든 정책과 지침을 다 읽어야 하는 것은 아닙니다. 모든 정책과 지침은 으레 다섯 원칙으로 요약되니까요.\n",
            "위키백과에 고정 불변의 법칙은 없지만, 위키백과의 정책과 지침 문서에는 공동체가 지키자고 합의한 원칙과 모범 사례가 있습니다. 정책은 모든 사용자들이 일반적으로 따르는 규범이고, 지침은 보통 특정 상황에서 따르면 좋은 모범 사례를 뜻합니다. 정책과 지침은 항상 이성적으로, 또한 상식대로 적용해야 합니다.\n",
            "본 정책 문서는 한국어 위키백과 내 정책과 지침 및 관련 문서의 공동체 규범 (생성, 채택 과정, 유지 및 관리, 준수)에 대해 명시합니다. 한국어 위키백과의 정책과 지침은 오직 한국어판 내에서만 적용되며, 타 언어판에는 다르게 적용되거나 적용되지 않는 규범이 있을 수 있습니다.\n",
            "\n",
            "\n",
            "최상위 정책\n",
            " 위키백과:위키미디어 정책  문서를 참고하십시오.\n",
            "위키백과는 비영리 재단인 위키미디어 재단이 운영하고 있으며, 위키미디어 재단은 위키백과의 특정 법적 권리를 가지고 있습니다. 한국어 위키백과는 다른 그 어느 정책보다도 위키미디어 재단의 원칙을 우선적으로 적용받습니다. 위키미디어 재단이 직접 내세우는 규범에 대해서는 위키미디어 재단 홈페이지의 '정책' 문서 (영어)와 위키백과:위키미디어 정책 문서를 참고하세요.\n",
            "재단의 정책이 가장 우선적으로 적용받긴 하지만, 그 외의 일반적인 경우에서 위키백과는 사용자들이 자발적으로 모인 공동체가 운영하는 자치 프로젝트입니다. 정책과 지침은 공동체의 총의와 합의를 반영한 것입니다.\n",
            "\n",
            "'정책과 지침'이란?\n",
            "정책 (policy)이란 위키백과의 기본적인 규칙으로 모든 사용자가 기본적으로 따라야 하는 원칙을 의미합니다. 위키백과의 정책 문서는 분류:위키백과 정책 분류에 모여 있습니다. 또한 주요 정책을 요약한 문서로 위키백과:정책 목록 문서도 참고할 수 있습니다.\n",
            "지침 (guideline)이란 총의에 따라 많은 편집자에게 지지받고 있는 모범 사례를 모아 둔 것입니다. 편집자들은 되도록이라면 상식적인 수준에서 지침을 따르는 것이 좋지만, 때때로 예외적인 상황에선 적용되지 않을 수도 있습니다. 위키백과의 지침 문서는 분류:위키백과 지침 분류에 모여 있습니다. 또한 주요 지침을 요약한 문서로 위키백과:지침 목록 문서도 참고할 수 있습니다.\n",
            "수필 (essay)이란 광범위한 총의가 형성되지 않은 편집자 혼자, 혹은 편집자 무리의 경험과 의견, 자신만의 해석이나 조언을 모은 것입니다. 정책이나 지침처럼 전체적인 총의를 따르지도, 모든 사용자가 동의하는 내용도 아닐 수 있으며 다른 사람들의 동의 과정 없이도 작성하거나 변경할 수 있습니다. 수필 문서는 분류:위키백과 수필 분류에 모여 있습니다. (자세한 내용은 '위키백과:수필'을 참조하세요)\n",
            "그 외에 위키백과와 위키프로젝트 이름 공간에 있는 문서의 종류에는 다음이 있습니다.\n",
            "\n",
            "정책과 지침을 용이하게 적용하기 위한 요청 및 토론 문서.(예를 들어 위키백과:삭제 토론이나 위키백과:관리자 요청이 있습니다)\n",
            "위키프로젝트 내에서 특정 분야의 문서 작업 효율성 증가를 위해 만든 각종 조언과 자체적인 지침 문서.\n",
            "위키백과를 사용하는 데 있어 사용 방법에 대한 정보를 얻거나 도움을 받을 수 있는 도움말과 설명문 문서.\n",
            "위키백과에 대한 기능이나 전체적인 정보를 제공하는 정보문 문서.\n",
            "정책과 지침을 보충하는 보조 자료 역할을 하는 보충 설명 문서.\n",
            "공동체 내부 토의와 대화를 위한 토론 문서와 알림판 문서.\n",
            "이러한 타 문서는 위키백과를 사용하는 데 도움이 될 유용한 정보나 조언이 있을 수 있지만 정책이나 지침에 해당되진 않습니다.\n",
            "\n",
            "준수\n",
            " 위키백과:\"규칙에 얽매이지 말라\"는 말의 의미  문서를 참고하십시오.\n",
            "정책과 지침을 해석하고 적용할 땐 항상 상식적으로 생각하여 적용해야 합니다. 규칙에는 가끔씩 예외가 있습니다. 하지만 이 말이 규칙을 무작정 어기거나 무시해도 괜찮다는 의미는 아닙니다. 규칙을 표면적으로는 지켰다고 할지라도, 규칙의 의도, 정신을 위배하는 사용자는 차단 혹은 제한 조치를 받을 수 있습니다.\n",
            "정책이나 지침 문서의 특정 부분은 총의가 바뀌면서 제정 당시의 의미가 사라졌을 수도 있습니다. 반대로, 그 취지를 고려하지 않고 단순히 정책이나 지침에 적힌 그대로 행동한다고 해서 위키백과의 총의를 지키는 것은 아닙니다. 정책과 지침을 해석하고 적용할 때에는 상식과 총의를 기준으로, 즉 대부분의 사용자가 동의하는 해석과 정신으로 기여해 주세요.\n",
            "\n",
            "집행\n",
            " 위키백과:관리자 및 위키백과:차단 정책  문서를 참고하십시오.\n",
            "위키백과 내에서 정책과 지침 집행은 사회적 상호작용과 비슷한 양상으로 흘러갑니다. 특정 편집자가 정책과 지침에 쓰여 있는 공동체의 총의를 어기는 경우 타 편집자가 처음에는 문서나 사용자 토론란에서 정책과 지침을 지켜달라고 요청할 수 있습니다. 시간이 지나도 지속적으로 위반한다면 관리자의 제재 요청이나 강제적인 수단에 맡길 수도 있지요.\n",
            "특정 사용자가 공동체의 규범을 총체적으로 어기고 있다면 규범 준수를 위해 좀 더 빠르게 강력한 수단을 이용해야 합니다. 특히 정책 문서에 명시된 원칙을 지키지 않는 것은 대부분의 경우 다른 사용자에게 받아들여지지 않습니다 (다른 분들에게 예외 상황임을 설득할 수 있다면 가능하기는 하지만요). 이는 당신을 포함해서 편집자 개개인이 정책과 지침을 직접 집행 및 적용한다는 것을 의미합니다.\n",
            "특정 사용자가 명백히 정책에 반하는 행동을 하거나 정책과 상충되는 방식으로 지침을 어기는 경우, 특히 의도적이고 지속적으로 그런 행위를 하는 경우 해당 사용자는 관리자의 제재 조치로 일시적, 혹은 영구적으로 편집이 차단될 수 있습니다. 영어판을 비롯한 타 언어판에서는 일반적인 분쟁 해결 절차로 끝낼 수 없는 사안은 중재위원회가 개입하기도 합니다.\n",
            "\n",
            "문서 내용\n",
            "정책과 지침의 문서 내용은 처음 읽는 사용자라도 원칙과 규범을 잘 이해할 수 있도록 다음 원칙을 지켜야 합니다.\n",
            "\n",
            "명확하게 작성하세요. 소수만 알아듣거나 준법률적인 단어, 혹은 지나치게 단순한 표현은 피해야 합니다. 명확하고, 직접적이고, 모호하지 않고, 구체적으로 작성하세요. 지나치게 상투적인 표현이나 일반론은 피하세요. 지침, 도움말 문서 및 기타 정보문 문서에서도 \"해야 합니다\" 혹은 \"하지 말아야 합니다\" 같이 직접적인 표현을 굳이 꺼릴 필요는 없습니다.\n",
            "가능한 간결하게, 너무 단순하지는 않게. 정책이 중언부언하면 오해를 부릅니다. 불필요한 말은 생략하세요. 직접적이고 간결한 설명이 마구잡이식 예시 나열보다 더 이해하기 쉽습니다. 각주나 관련 문서 링크를 이용하여 더 상세히 설명할 수도 있습니다.\n",
            "규칙을 만든 의도를 강조하세요. 사용자들이 상식대로 행동하리라 기대하세요. 정책의 의도가 명료하다면, 추가 설명은 필요 없죠. 즉 규칙을 '어떻게' 지키는지와 더불어 '왜' 지켜야 하는지 확실하게 밝혀야 합니다.\n",
            "범위는 분명히, 중복은 피하기. 되도록 앞부분에서 정책 및 지침의 목적과 범위를 분명하게 밝혀야 합니다. 독자 대부분은 도입부 초반만 읽고 나가버리니까요. 각 정책 문서의 내용은 해당 정책의 범위 내에서만 서술하세요. 한 도움말 문서가 다루는 범위가 다른 것과 겹친다면, 중복되는 부분을 최소화하세요. 한 정책 문서에서 다른 정책을 설명할 시, 최대한 간단명료하게만 작성해야 합니다.\n",
            "과도한 링크는 피하세요. 타 정책, 지침, 수필, 기타 문서는 설명 또는 문맥상 필요할 시에만 링크해야 합니다. 다른 도움말 문서로 링크하는 것은 의도였든 아니든 해당 문서에 지나친 권위를 부여할 수 있습니다. 링크해도 되는 것과 안 되는 것을 명확히 해 주세요.\n",
            "서로 모순되어서는 안 됩니다. 공동체의 관점이 'A면서 A가 아니다'로 모일 수는 없습니다. 각 문서 간 명백한 모순이 발견된다면, 편집자들은 관련 문서들에 토론을 열어 공동체의 현재 입장을 확실히 정하고, 그에 맞게 모든 문서를 재정리해야 합니다. 그 논의는 하나의 토론 장소에서만 열어야 하며, 영향을 받는 모든 문서의 토론란에 토론 진행중임을 알려야 합니다.\n",
            "정책과 지침은 백과사전의 일부가 아닙니다\n",
            "위키백과는 백과사전식 내용 관련 정책과 지침이 많이 있습니다. 위키백과의 내용 관련 규범은 확인 가능성, 중립성, 생존 인물 관련 존중, 그 외 여러 가치를 요구합니다.\n",
            "하지만 정책, 지침, 및 기타 운영에 관련된 문서들은 위키백과 백과사전의 일부가 아닙니다. 즉 일반적인 문서와 같은 내용 정책이나 지침을 적용할 필요가 없습니다. 위키백과의 관리 관련 문서에 확인 가능한 출처를 인용해야 한다거나, 정책과 지침을 전부 중립적 어조로 작성해야 한다거나, 편집 지침을 외부 출처로 인용해야만 하는 것은 아닙니다. 대신 정책 관련 문서의 내용은 공동체에 적용되는 총의에 따르고, 작성 방식은 다른 사용자를 위한 명확성, 단순명쾌함, 유용성에 중점을 둡니다.\n",
            "다만 정책과 지침 문서도, 내용 관련 정책이 아닌 다른 규정은 준수해야 합니다. 예를 들어, 위키백과 내의 어떤 문서에서든 저작권 침해는 용납되지 않습니다. 편집 분쟁 역시 일반 문서든 아니든 금지됩니다. \n",
            "\n",
            "채택 과정\n",
            "한국어 위키백과에서 오랫동안 확립되어 온 정책과 지침의 대다수는, 영어 위키백과 설립 시 토대가 된 원칙에서 발전된 것들입니다. 물론 타 언어 위키백과의 원칙을 가져오는 것 말고도, 정책과 지침을 일반적인 문제와 문서 훼손 행위의 대응책으로 한국어 위키백과 내 공동체에서 자발적으로 세우기도 했습니다. 정책과 지침 대부분은 전례 없이 바로 받아들여지기보다, 공동체의 강력한 지지를 바탕으로 세워집니다. 정책과 지침의 제정 방법으로는 제안을 통한 수립, 기존의 수필 또는 지침의 정책화, 기존의 정책과 지침의 분할 또는 합병을 통한 재구성 등의 여러 방법이 있습니다.\n",
            "정책과 지침이 아닌 위키백과 내 운영과 관련된 문서에는 {{수필}}, {{정보문}}, {{위키백과 사용서}} 등을 붙여 구분해야 합니다.\n",
            "현재 정책이나 지침으로 제안된 문서는 분류:위키백과 제안에 모여 있습니다. 총의를 통해 채택이 거부된 제안은 분류:위키백과 거부된 제안을 참조하세요. 여러분들의 참여를 환영합니다.\n",
            "\n",
            "제안과 채택\n",
            " 백:아님 § 관료주의  문서를 참고하십시오. 단축백:제안\n",
            "제안 문서란 정책과 지침으로 채택하자고 의견을 묻는 문서이나 아직 위키백과 내에 받아들여지는 원칙으로 확립되지는 않은 문서입니다. {{제안}} 틀을 붙여 공동체 내에서 정책이나 지침으로 채택할 지 의견을 물을 수 있습니다. 제안 문서는 정책과 지침이 아니므로 아무리 실제 있는 정책이나 지침을 요약하거나 인용해서 다른 문서에 쓴다고 해도 함부로 정책이나 지침 틀을 붙여서는 안 됩니다.\n",
            "'제안'은 완전 새로운 원칙이라기보다, 기존의 불문율이나 토론 총의의 문서를 통한 구체화에 가깝습니다. 많은 사람들이 쉽게 제안을 받아들이도록 하기 위해서는, 기초적인 원칙을 우선 정하고 기본 틀을 짜야 합니다. 정책과 지침의 기본 원칙은 \"왜 지켜야 하는가?\", \"어떻게 지켜야 하는가?\" 두 가지입니다. 특정 원칙을 정책이나 지침으로 확립하기 위해서는 우선 저 두 가지 물음에 성실하게 답하는 제안 문서를 작성해야 합니다.\n",
            "좋은 아이디어를 싣기 위해 사랑방이나 관련 위키프로젝트에 도움을 구해 피드백을 요청할 수 있습니다. 이 과정에서 공동체가 어느 정도 받아들일 수 있는 원칙이 구체화됩니다. 많은 이와의 토론을 통해 공감대가 형성되고 제안을 개선할 수 있습니다.\n",
            "정책이나 지침은 위키백과 내의 모든 편집자들에게 적용되는 원칙이므로 높은 수준의 총의가 요구됩니다. 제안 문서가 잘 짜여졌고 충분히 논의되었다면, 더 많은 공동체의 편집자와 논의를 하기 위해 승격 제안을 올려야 합니다. 제안 문서 맨 위에 {{제안}}을 붙여 제안 안건임을 알려주고, 토론 문서에 {{의견 요청}}을 붙인 뒤 채택 제안에 관한 토론 문단을 새로 만들면 됩니다. 많은 편집자들에게 알리기 위해 관련 내용을 {{위키백과 소식}}에 올리고 사랑방에 이를 공지해야 하며, 합의가 있을 경우 미디어위키의 sitenotice(위키백과 최상단에 노출되는 구역)에 공지할 수도 있습니다. \n",
            "차후 공지가 불충분했다는 이의 제기를 피하려면, 위의 링크를 이용하여 공지하세요. 공지에 비중립적인 단어를 사용하는 등의 선전 행위는 피하세요.\n",
            "토론이 끝났다면 선언과 함께 {{토론보존}} 틀을 이용하여 닫습니다. 총의 판단은 여타 토론과 마찬가지로  분쟁 해결 정책에서 갈음해 처리합니다. 토론을 통해 정책이나 지침 채택 여부를 논의하며, 이 과정에서 제안 문서가 크게 수정될 수도 있습니다. 토론 중 제안을 정식 정책/지침으로 채택하자는 합의로 모이고 나서 2주 (정확히 14일. 이후 내용은 모두 같습니다) 간 제안을 대폭 수정해야 하는 변경안 제시나 명확한 근거가 존재하는 반대가 나오지 않는다면 정책이나 지침으로 정식으로 채택됩니다. 반대로 토론자들 사이에서 채택을 거부한다는 합의가 모아져서 2주간 명확한 근거가 존재하는 반대 의견이 나오지 않는다면 채택안 거부 총의가 모아졌다고 보아 기각됩니다. 주요한 총의 판단 기준은 다음과 같습니다. \n",
            "\n",
            "정책과 지침 관련 총의는 추세가 뚜렷해야 하지만, 만장일치일 필요는 없습니다.\n",
            "제안 작성자 이외에도 공동체 전체에 노출되어 있어야 합니다.\n",
            "제안 문서의 영향력을 고려하세요.\n",
            "토론 중 중대한 문제가 제기되었는가?\n",
            "다른 정책 또는 지침과 모순되지는 않는가?\n",
            "새로 제정된 다른 정책 또는 지침과 병합될 수도 있는가?\n",
            "이미 존재하는 정책 및 지침과 중복되지는 않는가?\n",
            "제안 처리는 단순 득표수로 결정되지 않습니다. 투표는 토론을 대체하지 않으며, 득표수가 총의와 합치하는 것도 아닙니다.\n",
            "총의가 불분명하고, 이 상황이 개선될 것 같지 않다면 이는 거부됩니다.\n",
            "채택 토론은 세 가지로 귀결됩니다. 채택, 총의 없음, 거부.  토론 종결 이후 {{제안}} 틀을 제거하고 알맞은 틀을 삽입하세요. 가령 {{정책}}, {{지침}}, {{수필}}, {{거부}}  등을 말이죠. 그 외에 다양한 틀에는 위키백과 이름공간 관련 틀 (영어 위키백과)을 참고하세요.\n",
            "제안이 통과되었다면, 위키백과:사랑방에 통과된 정책의 주요 내용을 정리해서 새 제안이 정책/지침화되었음을 공지해야 합니다. 제안이 거부되었다면 특별한 합의가 있지 않는 이상 {{거부}} 틀을 지우지 않습니다. 이후 문서 개선 등을 통해 새 규칙으로 발전할 수도 있고, 다른 정책 개정 시 논란이 없는 부분에 한해 도입되기도 되기도 하니까요.\n",
            "\n",
            "내용 변경\n",
            "정책과 지침은 다른 위키백과 문서처럼 편집할 수 있습니다. 사전에 변경 사항을 논의하거나 문자화된 총의 기록를 구비할 필요는 없습니다. 그러나 정책과 지침은 민감하고 복잡합니다. 사용자들은 모든 편집 시 공동체의 관점을 충실히 반영하도록, 실수로 새로운 오류 또는 혼동의 원인이 발생하지 않도록 주의해야 합니다.\n",
            "명심하세요. 정책과 지침의 목적은 대부분의 위키백과인들이 동의하는 바를 진술하는 것이고, 따라서 정책과 지침은 주제에 대한 현재의 총의를 반영해야 합니다. 정책/지침/수필 문서의 편집 자체가 허용되는 관례의 즉각적인 변경을 의미하지는 않습니다. 정책 또는 지침 문서에서 거부된 관행을 권장하는 것은 당연히 나쁜 활동입니다.\n",
            "아래에서 보듯, 당신은 과감하게 삽입하거나, 토론을 통하여 광범위한 총의를 모으는 방식으로 모범적인 활동 규범을 제시할 수 있습니다.\n",
            "\n",
            "실질적인 변경\n",
            "실행하세요. 정책 및 지침 문서를 실질적으로 변경하기 전에, 기존 관행에 대한 합리적인 예외를 설정하는 것이 유용할 수 있습니다. 이러한 방식으로 기존의 관행을 갱신하기 위해, 백:과감과 백:무시 정신에 따라 기존의 관행에서 직접적으로 벗어날 수도 있습니다. 시간이 지나고, 변경에 대한 이의가 없거나 토론을 통해 변경 또는 구현에 대한 광범위한 총의에 도달한 경우, 관행을 설명하는 정책 및 지침 문서를 편집하여 새로운 상황을 반영할 수 있습니다.\n",
            "토론 먼저 하세요. 토론 문서 내 논의는 일반적으로 정책의 실질적인 변경보다 우선합니다. 이의가 없거나 토론에서 해당 변경에 대한 총의가 형성되었다면 변경할 수 있습니다. 서식, 문법 및 명료성 개선을 위한 사소한 편집은 언제든지 가능합니다.\n",
            "논의 결과가 불분명할 경우 제안 과정에서처럼 관리자나 다른 독립 편집자가 평가해야 합니다. 주요한 변화들은 또한 일반적으로 지역사회에 공표되어야 합니다; 제안 과정과 유사한 발표가 적절할 수 있습니다.\n",
            "더욱 폭넓은 참여가 필요하다면 {{새로운 토론|문단=진행 중인 토론 문단}} 틀이 유용할 수 있습니다. \n",
            "또는 과감해지세요. 비록 편집자들 대부분이 (특히 잘 짜인 문서에서) 기존의 논의 기록을 찾지만, 이러한 문서를 직접 편집하는 것은 위키피디아의 정책에 의해 허용됩니다. 따라서 변경 전에 총의를 나타내는 정식 논의가 없었다는 이유만으로 변경 사항을 제거해서는 안 됩니다. 대신, 편집 요약이나 토론 문서에 실질적인 반박 이유를 제시해야 합니다.\n",
            "정책 및 지침을 과감히 편집할 시 되돌리기를 당했다면 먼저 되돌리기 하는 것 보다, 토론을 열어 의견을 나누는 것이 좋습니다. 토론 중 자신의 주장을 뒷받침하기 위한 정책 편집은 체제를 시험하는 것으로 보일 수 있습니다. 특히 편집 시 논쟁에 자신이 참여한 사실을 밝히지 않았다면 더더욱이요.\n",
            "\n",
            "격하\n",
            "특정 정책이나 지침이 편집 관행이나 공동체 규범이 바뀌며 쓸모없어질 수 있고, 다른 문서가 개선되어 내용이 중복될 수 있으며, 불필요한 내용이 증식할 수도 있습니다. 이 경우 편집자들은 정책을 지침으로 격하하거나, 정책 또는 지침을 보충 설명, 정보문, 수필 또는 중단 문서로 격하할 것을 제안할 수 있습니다. \n",
            "격하 과정은 채택 과정과 비슷합니다. 일반적으로 토론 문서 내 논의가 시작되고 프로젝트 문서 상단에 {{새로운 토론|문단=진행 중인 토론 문단}} 틀을 붙여 공동체의 참여를 요청합니다. 논의가 충분히 이루어진 후, 제3의 편집자가 토론을 종료하고 평가한 후 상태 변경 총의가 형성되었는지 판단해야 합니다. 폐지된 정책이나 지침은 최상단에 {{중단}} 틀을 붙여 더 이상 사용하지 않는 정책/지침임을 알립니다.\n",
            "소수의 공동체 인원만 지지하는 수필, 정보문 및 기타 비공식 문서는 일반적으로 주된 작성자의 사용자 이름공간으로 이동합니다. 이러한 논의는 일반적으로 해당 문서의 토론란에서 이루어지며, 간혹 위키백과:의견 요청을 통해 처리되기도 합니다.\n",
            "\n",
            "같이 보기\n",
            "위키백과:위키백과의 정책과 지침 목록\n",
            "위키백과:의견 요청\n",
            "수필\n",
            "\n",
            "위키백과:제품, 절차, 정책\n",
            "위키백과:위키백과 공동체의 기대와 규범\n",
            "기타 링크\n",
            "\n",
            "위키백과:사랑방 (정책) - 현재는 폐지됨.\n",
            "외부 링크\n",
            "위키미디어 재단의 사명\n",
            "위키미디어 재단이 추구하는 가치\n",
            "meta:Founding principles - 메타위키의 창립원리\n",
            "vte위키백과의 주요 정책과 지침 (?)\n",
            "다섯 원칙\n",
            "규칙에 얽매이지 마세요\n",
            "컨텐츠 (?)P\n",
            "확인 가능\n",
            "독자 연구 금지\n",
            "중립적 시각\n",
            "위키백과에 대한 오해\n",
            "생존 인물의 전기\n",
            "저작권\n",
            "G\n",
            "문서 등재 기준\n",
            "자신에 대한 이야기\n",
            "출처 밝히기\n",
            "신뢰할 수 있는 출처\n",
            "비주류 이론\n",
            "무의미한 편집\n",
            "외부 링크\n",
            "제목 선택하기\n",
            "행동 (?)P\n",
            "총의\n",
            "문서 훼손\n",
            "규칙에 얽매이지 마세요\n",
            "인신 공격 금지\n",
            "문서의 소유권\n",
            "편집 분쟁\n",
            "편집 분쟁\n",
            "다중 계정\n",
            "법적 위협 금지\n",
            "G\n",
            "좋은 뜻으로 보기\n",
            "이해관계의 충돌\n",
            "방해 편집\n",
            "토론에서 지켜야 할 점\n",
            "새로 온 손님을 쫓아내지 마세요\n",
            "자살 또는 다른 종류의 위협에 대응하기\n",
            "토론 문서 지침\n",
            "서명\n",
            "삭제 (?)P\n",
            "삭제 정책\n",
            "빠른 삭제 기준\n",
            "기록보호자\n",
            "특정판 삭제 정책\n",
            "집행 (?)P\n",
            "관리자\n",
            "제한 정책\n",
            "차단 정책\n",
            "보호 정책\n",
            "편집 (?)G\n",
            "편집은 과감하게\n",
            "동음이의어 문서\n",
            "편집 지침\n",
            "전체적 편집 지침\n",
            "문단 구성\n",
            "분류화\n",
            "분류\n",
            "기타 컨텐츠 (?)G\n",
            "사용자 문서\n",
            "유저박스\n",
            "단축\n",
            "재단 (?)P\n",
            "이용약관\n",
            "정책 목록\n",
            "프랜들리 스페이스 정책\n",
            "라이선스와 저작권\n",
            "개인정보처리방침\n",
            "\n",
            "모든 정책과 지침 목록\n",
            "P: 정책 목록\n",
            "G: 지침 목록\n",
            "가치와 원칙 요약\n",
            "\n",
            "vte위키백과 사용자 계정비등록 사용자(IP 편집자)\n",
            "계정을 만드는 것이 좋은 이유\n",
            "계정 만들기\n",
            "IP 사용자도 사람입니다\n",
            "등록 사용자\n",
            "로그인\n",
            "비밀번호 재설정\n",
            "SUL\n",
            "계정 이름 정책\n",
            "계정 이름 변경 요청\n",
            "통합 계정 로그인\n",
            "다중 계정\n",
            "계정 보안\n",
            "사용자 계정 보안\n",
            "프라이버시를 지켜주세요\n",
            "차단과 추방, 제한\n",
            "차단 정책\n",
            "관리자 가이드\n",
            "부분 차단\n",
            "자동 차단\n",
            "차단 재검토 요청\n",
            "IP  차단\n",
            "대역 차단\n",
            "IPv6\n",
            "통신사 IP\n",
            "공개 프록시\n",
            "전역 잠금\n",
            "추방 정책 (제안)\n",
            "제한 정책\n",
            "계정 관련\n",
            "다중 계정\n",
            "단일 목적 계정\n",
            "휴면 계정\n",
            "위키휴가\n",
            "집행기\n",
            "탈퇴\n",
            "사라질 권리\n",
            "새로운 시작\n",
            "사용자 권한 및전역 사용자 권한\n",
            "사용자 권한 신청\n",
            "업로더\n",
            "신청\n",
            "점검 면제자\n",
            "일괄 되돌리기 기능\n",
            "신청\n",
            "IP 차단 면제\n",
            "봇\n",
            "신청\n",
            "고급 사용자 권한\n",
            "관리자\n",
            "목록\n",
            "선거\n",
            "사무관\n",
            "편집 필터\n",
            "인터페이스 관리자\n",
            "검사관\n",
            "기록보호자\n",
            "관리\n",
            "위키미디어 재단\n",
            "한국 위키미디어 협회\n",
            "위키프로젝트\n",
            "선거\n",
            "정책과 지침\n",
            "총의\n",
            "분쟁 해결\n",
            "조정\n",
            "중재\n",
            "\n",
            "\n",
            "\n",
            "\n",
            "\n",
            "원본 주소 \"https://ko.wikipedia.org/w/index.php?title=위키백과:정책과_지침&oldid=36927149\"\n",
            "분류: 위키백과 정책위키백과 정책과 지침위키백과 절차 정책숨은 분류: 준보호 문서\n",
            "\n",
            "\n",
            "\n",
            "\n",
            "\n",
            "\n",
            " 이 문서는 2024년 5월 6일 (월) 11:56에 마지막으로 편집되었습니다.\n",
            "모든 문서는 크리에이티브 커먼즈 저작자표시-동일조건변경허락 4.0에 따라 사용할 수 있으며, 추가적인 조건이 적용될 수 있습니다. 자세한 내용은 이용 약관을 참고하십시오.Wikipedia®는 미국 및 다른 국가에 등록되어 있는 Wikimedia Foundation, Inc. 소유의 등록 상표입니다.\n",
            "\n",
            "\n",
            "개인정보처리방침\n",
            "위키백과 소개\n",
            "면책 조항\n",
            "행동 강령\n",
            "개발자\n",
            "통계\n",
            "쿠키 정책\n",
            "모바일 보기\n",
            "\n",
            "\n",
            "\n",
            "\n",
            "\n",
            "\n",
            "\n",
            "\n",
            "\n",
            "\n",
            "\n",
            "\n",
            "\n",
            "\n"
          ]
        }
      ]
    },
    {
      "cell_type": "code",
      "source": [
        "## 텍스트 분할\n",
        "from langchain.text_splitter import RecursiveCharacterTextSplitter\n",
        "text_splitter = RecursiveCharacterTextSplitter(\n",
        "    chunk_size = 1000,\n",
        "    chunk_overlap = 200\n",
        ")\n",
        "splits = text_splitter.split_documents(docs)\n",
        "\n",
        "print(\"splits len : \", len(splits))"
      ],
      "metadata": {
        "colab": {
          "base_uri": "https://localhost:8080/"
        },
        "id": "rVKYrEZSwlL_",
        "outputId": "e685a15e-964b-485d-e76f-b6e7db464484"
      },
      "execution_count": null,
      "outputs": [
        {
          "output_type": "stream",
          "name": "stdout",
          "text": [
            "splits len :  18\n"
          ]
        }
      ]
    }
  ]
}